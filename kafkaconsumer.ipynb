{
 "cells": [
  {
   "cell_type": "code",
   "execution_count": 14,
   "id": "d52b2cd4",
   "metadata": {},
   "outputs": [],
   "source": [
    "import pandas as pd\n",
    "from kafka import KafkaConsumer,KafkaProducer\n",
    "from time import sleep\n",
    "from json import dumps,loads\n",
    "from sklearn.metrics import accuracy_score\n",
    "import json"
   ]
  },
  {
   "cell_type": "code",
   "execution_count": 15,
   "id": "122b62f4",
   "metadata": {},
   "outputs": [],
   "source": [
    "consumer = KafkaConsumer(\n",
    "        'demopc',\n",
    "        bootstrap_servers = ['43.204.29.247:9092'],\n",
    "        value_deserializer = lambda x: loads(x.decode('utf-8'))\n",
    ")"
   ]
  },
  {
   "cell_type": "code",
   "execution_count": 16,
   "id": "42d195f5",
   "metadata": {},
   "outputs": [],
   "source": [
    "import os\n",
    "from joblib import load\n",
    "model_path = './model/LR_model.joblib'\n",
    "model = load(model_path)"
   ]
  },
  {
   "cell_type": "code",
   "execution_count": null,
   "id": "5160b494",
   "metadata": {},
   "outputs": [],
   "source": [
    "import matplotlib.pyplot as plt\n",
    "from joblib import dump\n",
    "from sklearn.linear_model import LogisticRegression\n",
    "i = 0\n",
    "acc = []\n",
    "y=[]\n",
    "label = []\n",
    "batch_list = []\n",
    "temp = None\n",
    "for x in consumer:\n",
    "    if i<20:\n",
    "        test_val = x.value\n",
    "        c = list(test_val.values())[1:]\n",
    "        feature_df = pd.DataFrame([c], columns=list(test_val.keys())[1:])\n",
    "        x = feature_df.drop('Outcome', axis=1)  # X contains all columns except 'Outcome'\n",
    "        l = feature_df['Outcome'].values\n",
    "        a=model.predict(x)\n",
    "        print(a)\n",
    "        y.append(a)\n",
    "        label.append(l)\n",
    "        if temp is not None:\n",
    "            temp = pd.concat([feature_df,temp])\n",
    "        else:\n",
    "            temp = feature_df\n",
    "        i+=1\n",
    "\n",
    "    else:\n",
    "        feature_df = pd.DataFrame([c], columns=list(test_val.keys())[1:])\n",
    "        temp = pd.concat([feature_df,temp])\n",
    "        model = load(model_path)\n",
    "        new_model = LogisticRegression(warm_start=True,max_iter=100)\n",
    "        x, y = temp.iloc[:, :-1].astype(float), temp.iloc[:, -1]\n",
    "        new_model.fit(x,y)\n",
    "        joblib.dump(new_model,model_path)\n",
    "        accuracy = accuracy_score(label, y)\n",
    "        acc.append(accuracy)\n",
    "        \n",
    "        \n",
    "        i=0\n",
    "        \n",
    "        batch_list.append(i)\n",
    "        plt.bar(batch_list, acc, width=bar_width)\n",
    "        plt.show()\n",
    "        \n",
    "        #updating the model"
   ]
  },
  {
   "cell_type": "code",
   "execution_count": null,
   "id": "25851196",
   "metadata": {},
   "outputs": [],
   "source": []
  }
 ],
 "metadata": {
  "kernelspec": {
   "display_name": "Python 3 (ipykernel)",
   "language": "python",
   "name": "python3"
  },
  "language_info": {
   "codemirror_mode": {
    "name": "ipython",
    "version": 3
   },
   "file_extension": ".py",
   "mimetype": "text/x-python",
   "name": "python",
   "nbconvert_exporter": "python",
   "pygments_lexer": "ipython3",
   "version": "3.9.13"
  }
 },
 "nbformat": 4,
 "nbformat_minor": 5
}
